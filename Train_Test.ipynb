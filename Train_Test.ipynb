{
 "cells": [
  {
   "cell_type": "code",
   "execution_count": 3,
   "metadata": {},
   "outputs": [],
   "source": [
    "import numpy as np\n",
    "\n",
    "# Load the dataset\n",
    "dataset = np.load('/CSE499/Dataset/ConvertedDataset/NonDemented.npy')\n",
    "\n",
    "# Shuffle the dataset\n",
    "np.random.shuffle(dataset)\n",
    "\n",
    "# Split the dataset into training and testing sets\n",
    "train_ratio = 0.7  # 70% for training\n",
    "train_size = int(train_ratio * len(dataset))\n",
    "\n",
    "train_data, test_data = np.split(dataset, [train_size])\n",
    "\n",
    "np.save('/CSE499/Dataset/ConvertedDataset/Train_Test/NonDementedTrain.npy', train_data)\n",
    "np.save('/CSE499/Dataset/ConvertedDataset/Train_Test/NonDementedTest.npy', test_data)"
   ]
  },
  {
   "cell_type": "code",
   "execution_count": 4,
   "metadata": {},
   "outputs": [],
   "source": [
    "import numpy as np\n",
    "\n",
    "# Load the dataset\n",
    "dataset = np.load('/CSE499/Dataset/ConvertedDataset/Very_Mild_Demented.npy')\n",
    "\n",
    "# Shuffle the dataset\n",
    "np.random.shuffle(dataset)\n",
    "\n",
    "# Split the dataset into training and testing sets\n",
    "train_ratio = 0.7  # 70% for training\n",
    "train_size = int(train_ratio * len(dataset))\n",
    "\n",
    "train_data, test_data = np.split(dataset, [train_size])\n",
    "\n",
    "np.save('/CSE499/Dataset/ConvertedDataset/Train_Test/Very_Mild_DementedTrain.npy', train_data)\n",
    "np.save('/CSE499/Dataset/ConvertedDataset/Train_Test/Very_Mild_DementedTest.npy', test_data)"
   ]
  },
  {
   "cell_type": "code",
   "execution_count": 8,
   "metadata": {},
   "outputs": [],
   "source": [
    "import numpy as np\n",
    "\n",
    "# Load the dataset\n",
    "dataset = np.load('/CSE499/Dataset/ConvertedDataset/Mild_Demented.npy')\n",
    "\n",
    "# Shuffle the dataset\n",
    "np.random.shuffle(dataset)\n",
    "\n",
    "# Split the dataset into training and testing sets\n",
    "train_ratio = 0.7  # 70% for training\n",
    "train_size = int(train_ratio * len(dataset))\n",
    "\n",
    "train_data, test_data = np.split(dataset, [train_size])\n",
    "\n",
    "np.save('/CSE499/Dataset/ConvertedDataset/Train_Test/Mild_DementedTrain.npy', train_data)\n",
    "np.save('/CSE499/Dataset/ConvertedDataset/Train_Test/Mild_DementedTest.npy', test_data)"
   ]
  },
  {
   "cell_type": "code",
   "execution_count": 9,
   "metadata": {},
   "outputs": [],
   "source": [
    "import numpy as np\n",
    "\n",
    "# Load the dataset\n",
    "dataset = np.load('/CSE499/Dataset/ConvertedDataset/Moderate_Demented.npy')\n",
    "\n",
    "# Shuffle the dataset\n",
    "np.random.shuffle(dataset)\n",
    "\n",
    "# Split the dataset into training and testing sets\n",
    "train_ratio = 0.7  # 70% for training\n",
    "train_size = int(train_ratio * len(dataset))\n",
    "\n",
    "train_data, test_data = np.split(dataset, [train_size])\n",
    "\n",
    "np.save('/CSE499/Dataset/ConvertedDataset/Train_Test/Moderate_DementedTrain.npy', train_data)\n",
    "np.save('/CSE499/Dataset/ConvertedDataset/Train_Test/Moderate_DementedTest.npy', test_data)"
   ]
  }
 ],
 "metadata": {
  "kernelspec": {
   "display_name": "Python 3",
   "language": "python",
   "name": "python3"
  },
  "language_info": {
   "codemirror_mode": {
    "name": "ipython",
    "version": 3
   },
   "file_extension": ".py",
   "mimetype": "text/x-python",
   "name": "python",
   "nbconvert_exporter": "python",
   "pygments_lexer": "ipython3",
   "version": "3.11.1"
  },
  "orig_nbformat": 4
 },
 "nbformat": 4,
 "nbformat_minor": 2
}
